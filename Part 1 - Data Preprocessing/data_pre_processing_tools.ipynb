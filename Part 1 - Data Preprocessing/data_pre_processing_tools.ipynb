{
 "cells": [
  {
   "cell_type": "markdown",
   "id": "66b8ab15",
   "metadata": {},
   "source": [
    "Importing the Libraries"
   ]
  },
  {
   "cell_type": "code",
   "execution_count": 2,
   "id": "58de2a31",
   "metadata": {},
   "outputs": [],
   "source": [
    "# To work with arrays and mathimatical operations we use Numpy\n",
    "import numpy as np\n",
    "# To plot the data on graphs,charts,etc we use Matplotlib\n",
    "import matplotlib.pyplot as plt\n",
    "# To work with dataframes, import dataset, matrix of features and Dependent Variable vector we use Pandas\n",
    "import pandas as pd"
   ]
  },
  {
   "cell_type": "markdown",
   "id": "73886803",
   "metadata": {},
   "source": [
    "Importing The Dataset"
   ]
  },
  {
   "cell_type": "code",
   "execution_count": null,
   "id": "6e32f074",
   "metadata": {},
   "outputs": [],
   "source": [
    "# TO read the csv file and store the excel data in a dataframe\n",
    "dataset = pd.read_csv(r'C:\\Users\\avira\\Documents\\Restart_Skills_v2025\\GitHub\\Machine_Learning_AI_Python_ChatGPT_dataset_venv\\datasets\\Part 1 - Data Preprocessing\\Data.csv')\n",
    "\n",
    "X = dataset.iloc[:, :-1].values  # Features (all the values except the last column)\n",
    "y = dataset.iloc[:, -1].values  # Target variable (all the values in the last column)"
   ]
  },
  {
   "cell_type": "code",
   "execution_count": 4,
   "id": "68c9cf58",
   "metadata": {},
   "outputs": [
    {
     "name": "stdout",
     "output_type": "stream",
     "text": [
      "X:-  [['France' 44.0 72000.0]\n",
      " ['Spain' 27.0 48000.0]\n",
      " ['Germany' 30.0 54000.0]\n",
      " ['Spain' 38.0 61000.0]\n",
      " ['Germany' 40.0 nan]\n",
      " ['France' 35.0 58000.0]\n",
      " ['Spain' nan 52000.0]\n",
      " ['France' 48.0 79000.0]\n",
      " ['Germany' 50.0 83000.0]\n",
      " ['France' 37.0 67000.0]]\n"
     ]
    }
   ],
   "source": [
    "print(\"X:- \", X)"
   ]
  },
  {
   "cell_type": "code",
   "execution_count": 5,
   "id": "a5209807",
   "metadata": {},
   "outputs": [
    {
     "name": "stdout",
     "output_type": "stream",
     "text": [
      "Y:-  ['No' 'Yes' 'No' 'No' 'Yes' 'Yes' 'No' 'Yes' 'No' 'Yes']\n"
     ]
    }
   ],
   "source": [
    "print(\"Y:- \", y)"
   ]
  },
  {
   "cell_type": "code",
   "execution_count": null,
   "id": "25041338",
   "metadata": {},
   "outputs": [],
   "source": []
  }
 ],
 "metadata": {
  "kernelspec": {
   "display_name": "ml_venv",
   "language": "python",
   "name": "python3"
  },
  "language_info": {
   "codemirror_mode": {
    "name": "ipython",
    "version": 3
   },
   "file_extension": ".py",
   "mimetype": "text/x-python",
   "name": "python",
   "nbconvert_exporter": "python",
   "pygments_lexer": "ipython3",
   "version": "3.10.2"
  }
 },
 "nbformat": 4,
 "nbformat_minor": 5
}
