{
 "cells": [
  {
   "cell_type": "markdown",
   "id": "66b8ab15",
   "metadata": {},
   "source": [
    "Importing the Libraries"
   ]
  },
  {
   "cell_type": "code",
   "execution_count": 1,
   "id": "58de2a31",
   "metadata": {},
   "outputs": [],
   "source": [
    "# To work with arrays and mathimatical operations we use Numpy\n",
    "import numpy as np\n",
    "# To plot the data on graphs,charts,etc we use Matplotlib\n",
    "import matplotlib.pyplot as plt\n",
    "# To work with dataframes, import dataset, matrix of features and Dependent Variable vector we use Pandas\n",
    "import pandas as pd"
   ]
  },
  {
   "cell_type": "markdown",
   "id": "73886803",
   "metadata": {},
   "source": [
    "Importing The Dataset"
   ]
  },
  {
   "cell_type": "code",
   "execution_count": 2,
   "id": "6e32f074",
   "metadata": {},
   "outputs": [],
   "source": [
    "# TO read the csv file and store the excel data in a dataframe\n",
    "dataset = pd.read_csv(r'C:\\Users\\avira\\Documents\\Restart_Skills_v2025\\GitHub\\Machine_Learning_AI_Python_ChatGPT_dataset_venv\\datasets\\Part 1 - Data Preprocessing\\Data.csv')\n",
    "\n",
    "X = dataset.iloc[:, :-1].values  # Features (all the values except the last column)\n",
    "y = dataset.iloc[:, -1].values  # Target variable (all the values in the last column)"
   ]
  },
  {
   "cell_type": "code",
   "execution_count": 3,
   "id": "68c9cf58",
   "metadata": {},
   "outputs": [
    {
     "name": "stdout",
     "output_type": "stream",
     "text": [
      "X:-  [['France' 44.0 72000.0]\n",
      " ['Spain' 27.0 48000.0]\n",
      " ['Germany' 30.0 54000.0]\n",
      " ['Spain' 38.0 61000.0]\n",
      " ['Germany' 40.0 nan]\n",
      " ['France' 35.0 58000.0]\n",
      " ['Spain' nan 52000.0]\n",
      " ['France' 48.0 79000.0]\n",
      " ['Germany' 50.0 83000.0]\n",
      " ['France' 37.0 67000.0]]\n"
     ]
    }
   ],
   "source": [
    "print(\"X:- \", X)"
   ]
  },
  {
   "cell_type": "code",
   "execution_count": 4,
   "id": "a5209807",
   "metadata": {},
   "outputs": [
    {
     "name": "stdout",
     "output_type": "stream",
     "text": [
      "Y:-  ['No' 'Yes' 'No' 'No' 'Yes' 'Yes' 'No' 'Yes' 'No' 'Yes']\n"
     ]
    }
   ],
   "source": [
    "print(\"Y:- \", y)"
   ]
  },
  {
   "cell_type": "markdown",
   "id": "8cd05a96",
   "metadata": {},
   "source": [
    "Taking Care of Missing Data"
   ]
  },
  {
   "cell_type": "code",
   "execution_count": 5,
   "id": "25041338",
   "metadata": {},
   "outputs": [],
   "source": [
    "# To handle missing data we use SimpleImputer from sklearn.impute. In our case, it will replace the missing values with the mean of the column.\n",
    "# Importing SimpleImputer class\n",
    "from sklearn.impute import SimpleImputer"
   ]
  },
  {
   "cell_type": "code",
   "execution_count": 6,
   "id": "fcba34ae",
   "metadata": {},
   "outputs": [],
   "source": [
    "# Creating an object and calling the class from the object\n",
    "# Claryifing that the missing values are represented as 'NaN' and we want to replace them with the mean of the column\n",
    "imputer = SimpleImputer(missing_values=np.nan, strategy='mean')\n",
    "\n",
    "# Calling the function of the class SImpleImputer and fitting the imputer object to the columns with missing data (in our case, columns 1 and 2)\n",
    "# We need to make sure that the values given to the fit function are numerical and not categorical\n",
    "imputer.fit(X[: , 1:3])\n",
    "\n",
    "# After fitting the imputer object to the columns with missing data, we transform the data in those columns\n",
    "# This will replace the missing values with the mean of the column\n",
    "X[: , 1:3] = imputer.transform(X[: , 1:3])"
   ]
  },
  {
   "cell_type": "code",
   "execution_count": 7,
   "id": "6f2211a0",
   "metadata": {},
   "outputs": [
    {
     "name": "stdout",
     "output_type": "stream",
     "text": [
      "X after imputer:-  [['France' 44.0 72000.0]\n",
      " ['Spain' 27.0 48000.0]\n",
      " ['Germany' 30.0 54000.0]\n",
      " ['Spain' 38.0 61000.0]\n",
      " ['Germany' 40.0 63777.77777777778]\n",
      " ['France' 35.0 58000.0]\n",
      " ['Spain' 38.77777777777778 52000.0]\n",
      " ['France' 48.0 79000.0]\n",
      " ['Germany' 50.0 83000.0]\n",
      " ['France' 37.0 67000.0]]\n"
     ]
    }
   ],
   "source": [
    "print(\"X after imputer:- \", X)"
   ]
  },
  {
   "cell_type": "markdown",
   "id": "289524ab",
   "metadata": {},
   "source": [
    "Encoding the Categorical Data"
   ]
  },
  {
   "cell_type": "markdown",
   "id": "c5cbde6e",
   "metadata": {},
   "source": [
    "Encoding the Independent Variable\n"
   ]
  },
  {
   "cell_type": "code",
   "execution_count": null,
   "id": "5844be2e",
   "metadata": {},
   "outputs": [],
   "source": [
    "# To handle categorical data we use OneHotEncoder from sklearn.preprocessing\n",
    "# Importing ColumnTransformer class and OneHotEncoder class\n",
    "from sklearn.compose import ColumnTransformer\n",
    "from sklearn.preprocessing import OneHotEncoder"
   ]
  },
  {
   "cell_type": "code",
   "execution_count": 9,
   "id": "87782e92",
   "metadata": {},
   "outputs": [],
   "source": [
    "# Creating an object of Column Transformer and passing the self parameters in it.\n",
    "# We are specifying that we want to apply OneHotEncoder to the first column (index 0) of X\n",
    "# The remainder='passthrough' parameter means that we want to keep the other columns as they are\n",
    "# This will create new binary columns for each category in the first column and drop the original column\n",
    "ct = ColumnTransformer(transformers=[('encoder', OneHotEncoder(), [0])], remainder='passthrough')\n",
    "X = ct.fit_transform(X)"
   ]
  },
  {
   "cell_type": "code",
   "execution_count": 10,
   "id": "013b001e",
   "metadata": {},
   "outputs": [],
   "source": [
    "# The Model is trained on numpy arrays, so we convert the X to numpy array\n",
    "X = np.array(X)"
   ]
  },
  {
   "cell_type": "code",
   "execution_count": 11,
   "id": "17c9a347",
   "metadata": {},
   "outputs": [
    {
     "name": "stdout",
     "output_type": "stream",
     "text": [
      "X after ColumnTransformer:-  [[1.0 0.0 0.0 44.0 72000.0]\n",
      " [0.0 0.0 1.0 27.0 48000.0]\n",
      " [0.0 1.0 0.0 30.0 54000.0]\n",
      " [0.0 0.0 1.0 38.0 61000.0]\n",
      " [0.0 1.0 0.0 40.0 63777.77777777778]\n",
      " [1.0 0.0 0.0 35.0 58000.0]\n",
      " [0.0 0.0 1.0 38.77777777777778 52000.0]\n",
      " [1.0 0.0 0.0 48.0 79000.0]\n",
      " [0.0 1.0 0.0 50.0 83000.0]\n",
      " [1.0 0.0 0.0 37.0 67000.0]]\n"
     ]
    }
   ],
   "source": [
    "print(\"X after ColumnTransformer:- \", X)"
   ]
  },
  {
   "cell_type": "markdown",
   "id": "bdd632c6",
   "metadata": {},
   "source": [
    "Encoding the Dependent Variable"
   ]
  },
  {
   "cell_type": "code",
   "execution_count": 12,
   "id": "a83545d7",
   "metadata": {},
   "outputs": [],
   "source": [
    "from sklearn.preprocessing import LabelEncoder"
   ]
  },
  {
   "cell_type": "code",
   "execution_count": null,
   "id": "933f3529",
   "metadata": {},
   "outputs": [],
   "source": [
    "# Creating a class object of LabelEncoder to encode the Dependent Variable (y)\n",
    "temp = LabelEncoder()\n",
    "\n",
    "# The output is a 1D array, so we can directly fit and transform y.\n",
    "# We do not need to numpy array conversion since the output is already a numpy array\n",
    "y = temp.fit_transform(y)\n"
   ]
  },
  {
   "cell_type": "code",
   "execution_count": 14,
   "id": "6cb5a7d3",
   "metadata": {},
   "outputs": [
    {
     "name": "stdout",
     "output_type": "stream",
     "text": [
      "y after LabelEncoder:-  [0 1 0 0 1 1 0 1 0 1]\n"
     ]
    }
   ],
   "source": [
    "print(\"y after LabelEncoder:- \", y)"
   ]
  },
  {
   "cell_type": "markdown",
   "id": "e9438ff8",
   "metadata": {},
   "source": [
    "Splitting the Dataset into Training and Testing set"
   ]
  },
  {
   "cell_type": "code",
   "execution_count": 15,
   "id": "47bce43a",
   "metadata": {},
   "outputs": [],
   "source": [
    "# Importing the function to splithe data into training and testing set.\n",
    "\n",
    "from sklearn.model_selection import train_test_split"
   ]
  },
  {
   "cell_type": "code",
   "execution_count": 16,
   "id": "a3c0df39",
   "metadata": {},
   "outputs": [],
   "source": [
    "# The function takes 4 parameters:\n",
    "# 1. X: The matrix of features\n",
    "# 2. y: The Dependent Variable vector\n",
    "# 3. test_size: The proportion of the dataset to include in the test split (\n",
    "#    typically between 0.2 and 0.4). We usually use 0.2 (20% of the data for testing and 80% for training)\n",
    "# 4. random_state: This is used to ensure that the results are reproducible. It is an integer value that is used as a seed for the random number generator.\n",
    "\n",
    "X_train, X_test, y_train, y_test = train_test_split(X, y, test_size=0.2, random_state=1)\n"
   ]
  },
  {
   "cell_type": "code",
   "execution_count": 17,
   "id": "8a6f3641",
   "metadata": {},
   "outputs": [
    {
     "name": "stdout",
     "output_type": "stream",
     "text": [
      "[[0.0 0.0 1.0 38.77777777777778 52000.0]\n",
      " [0.0 1.0 0.0 40.0 63777.77777777778]\n",
      " [1.0 0.0 0.0 44.0 72000.0]\n",
      " [0.0 0.0 1.0 38.0 61000.0]\n",
      " [0.0 0.0 1.0 27.0 48000.0]\n",
      " [1.0 0.0 0.0 48.0 79000.0]\n",
      " [0.0 1.0 0.0 50.0 83000.0]\n",
      " [1.0 0.0 0.0 35.0 58000.0]]\n"
     ]
    }
   ],
   "source": [
    "print(X_train)"
   ]
  },
  {
   "cell_type": "code",
   "execution_count": 18,
   "id": "a77d4ce1",
   "metadata": {},
   "outputs": [
    {
     "name": "stdout",
     "output_type": "stream",
     "text": [
      "[[0.0 1.0 0.0 30.0 54000.0]\n",
      " [1.0 0.0 0.0 37.0 67000.0]]\n"
     ]
    }
   ],
   "source": [
    "print(X_test)"
   ]
  },
  {
   "cell_type": "code",
   "execution_count": 19,
   "id": "d2140b6c",
   "metadata": {},
   "outputs": [
    {
     "name": "stdout",
     "output_type": "stream",
     "text": [
      "[0 1 0 0 1 1 0 1]\n"
     ]
    }
   ],
   "source": [
    "print(y_train)"
   ]
  },
  {
   "cell_type": "code",
   "execution_count": 21,
   "id": "e30d3af9",
   "metadata": {},
   "outputs": [
    {
     "name": "stdout",
     "output_type": "stream",
     "text": [
      "[0 1]\n"
     ]
    }
   ],
   "source": [
    "print(y_test)"
   ]
  },
  {
   "cell_type": "markdown",
   "id": "6740216b",
   "metadata": {},
   "source": [
    "Feature Scaling"
   ]
  },
  {
   "cell_type": "code",
   "execution_count": null,
   "id": "6ff9a786",
   "metadata": {},
   "outputs": [],
   "source": [
    "\n",
    "# Feature Scaling\n",
    "# Importing StandardScaler class from sklearn.preprocessing\n",
    "\n",
    "from sklearn.preprocessing import StandardScaler"
   ]
  },
  {
   "cell_type": "code",
   "execution_count": null,
   "id": "33c1e6fc",
   "metadata": {},
   "outputs": [],
   "source": [
    "\n",
    "# Creting a StandardScaler object\n",
    "sc = StandardScaler()\n",
    "\n",
    "# Fitting the StandardScaler object to the training set and transforming the training set\n",
    "# We are applying feature scaling to all the columns except the first 3 columns (which are the one-hot encoded columns)\n",
    "X_train[:, 3:] = sc.fit_transform(X_train[:, 3:])"
   ]
  }
 ],
 "metadata": {
  "kernelspec": {
   "display_name": "ml_venv",
   "language": "python",
   "name": "python3"
  },
  "language_info": {
   "codemirror_mode": {
    "name": "ipython",
    "version": 3
   },
   "file_extension": ".py",
   "mimetype": "text/x-python",
   "name": "python",
   "nbconvert_exporter": "python",
   "pygments_lexer": "ipython3",
   "version": "3.10.2"
  }
 },
 "nbformat": 4,
 "nbformat_minor": 5
}
